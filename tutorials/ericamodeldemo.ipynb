{
 "cells": [
  {
   "cell_type": "code",
   "execution_count": 6,
   "id": "65bb7788",
   "metadata": {},
   "outputs": [],
   "source": [
    "# Setup\n",
    "import importlib\n",
    "import warnings\n",
    "warnings.filterwarnings(\"ignore\")\n",
    "\n",
    "import pandas as pd\n",
    "import pickle as pkl\n",
    "import matplotlib.pyplot as plt\n",
    "from sccoda.util import cell_composition_data as dat\n",
    "from sccoda.util import data_visualization as viz\n",
    "\n",
    "import sccoda.datasets as scd\n",
    "\n",
    "from sccoda.model.scCODA_model import EricaModel"
   ]
  },
  {
   "cell_type": "markdown",
   "id": "5b850851",
   "metadata": {},
   "source": [
    "### Loading Data"
   ]
  },
  {
   "cell_type": "code",
   "execution_count": null,
   "id": "4b79a12a",
   "metadata": {},
   "outputs": [
    {
     "name": "stdout",
     "output_type": "stream",
     "text": [
      "            Mouse  Endocrine  Enterocyte  Enterocyte.Progenitor  Goblet  Stem  \\\n",
      "0       Control_1         36          59                    136      36   239   \n",
      "1       Control_2          5          46                     23      20    50   \n",
      "2       Control_3         45          98                    188     124   250   \n",
      "3       Control_4         26         221                    198      36   131   \n",
      "4  H.poly.Day10_1         42          71                    203     147   271   \n",
      "5  H.poly.Day10_2         40          57                    383     170   321   \n",
      "6   H.poly.Day3_1         52          75                    347      66   323   \n",
      "7   H.poly.Day3_2         65         126                    115      33    65   \n",
      "8          Salm_1         37         332                    113      59    90   \n",
      "9          Salm_2         32         373                    116      67   117   \n",
      "\n",
      "    TA  TA.Early  Tuft  \n",
      "0  125       191    18  \n",
      "1   11        40     5  \n",
      "2  155       365    33  \n",
      "3  130       196     4  \n",
      "4  109       180   146  \n",
      "5  244       256    71  \n",
      "6  263       313    51  \n",
      "7   39       129    59  \n",
      "8   47       132    10  \n",
      "9   65       168    12  \n"
     ]
    },
    {
     "ename": "",
     "evalue": "",
     "output_type": "error",
     "traceback": [
      "\u001b[1;31mnotebook controller is DISPOSED. \n",
      "\u001b[1;31mView Jupyter <a href='command:jupyter.viewOutput'>log</a> for further details."
     ]
    },
    {
     "ename": "",
     "evalue": "",
     "output_type": "error",
     "traceback": [
      "\u001b[1;31mnotebook controller is DISPOSED. \n",
      "\u001b[1;31mView Jupyter <a href='command:jupyter.viewOutput'>log</a> for further details."
     ]
    }
   ],
   "source": [
    "# Read data into pandas from csv\n",
    "\n",
    "cell_counts = scd.haber()\n",
    "\n",
    "print(cell_counts)"
   ]
  },
  {
   "cell_type": "markdown",
   "id": "c249f0d4",
   "metadata": {},
   "source": [
    "### Converting data to anndata object"
   ]
  },
  {
   "cell_type": "code",
   "execution_count": null,
   "id": "2e214ef4",
   "metadata": {},
   "outputs": [
    {
     "name": "stdout",
     "output_type": "stream",
     "text": [
      "AnnData object with n_obs × n_vars = 10 × 8\n",
      "    obs: 'Mouse', 'Condition'\n"
     ]
    },
    {
     "ename": "",
     "evalue": "",
     "output_type": "error",
     "traceback": [
      "\u001b[1;31mnotebook controller is DISPOSED. \n",
      "\u001b[1;31mView Jupyter <a href='command:jupyter.viewOutput'>log</a> for further details."
     ]
    },
    {
     "ename": "",
     "evalue": "",
     "output_type": "error",
     "traceback": [
      "\u001b[1;31mnotebook controller is DISPOSED. \n",
      "\u001b[1;31mView Jupyter <a href='command:jupyter.viewOutput'>log</a> for further details."
     ]
    }
   ],
   "source": [
    "# Convert data to anndata object\n",
    "data_all = dat.from_pandas(cell_counts, covariate_columns=[\"Mouse\"])\n",
    "\n",
    "# Extract condition from mouse name and add it as an extra column to the covariates\n",
    "data_all.obs[\"Condition\"] = data_all.obs[\"Mouse\"].str.replace(r\"_[0-9]\", \"\", regex=True)\n",
    "print(data_all)"
   ]
  },
  {
   "cell_type": "code",
   "execution_count": null,
   "id": "fff30555",
   "metadata": {},
   "outputs": [
    {
     "name": "stdout",
     "output_type": "stream",
     "text": [
      "       Mouse Condition\n",
      "0  Control_1   Control\n",
      "1  Control_2   Control\n",
      "2  Control_3   Control\n",
      "3  Control_4   Control\n",
      "8     Salm_1      Salm\n",
      "9     Salm_2      Salm\n"
     ]
    },
    {
     "ename": "",
     "evalue": "",
     "output_type": "error",
     "traceback": [
      "\u001b[1;31mnotebook controller is DISPOSED. \n",
      "\u001b[1;31mView Jupyter <a href='command:jupyter.viewOutput'>log</a> for further details."
     ]
    },
    {
     "ename": "",
     "evalue": "",
     "output_type": "error",
     "traceback": [
      "\u001b[1;31mnotebook controller is DISPOSED. \n",
      "\u001b[1;31mView Jupyter <a href='command:jupyter.viewOutput'>log</a> for further details."
     ]
    }
   ],
   "source": [
    "\n",
    "# Select control and salmonella data\n",
    "data_salm = data_all[data_all.obs[\"Condition\"].isin([\"Control\", \"Salm\"])]\n",
    "print(data_salm.obs)\n"
   ]
  },
  {
   "cell_type": "code",
   "execution_count": null,
   "id": "fe38c86f",
   "metadata": {},
   "outputs": [
    {
     "data": {
      "image/png": "[encoded data removed]",
      "text/plain": [
       "<Figure size 640x480 with 1 Axes>"
      ]
     },
     "metadata": {},
     "output_type": "display_data"
    },
    {
     "ename": "",
     "evalue": "",
     "output_type": "error",
     "traceback": [
      "\u001b[1;31mnotebook controller is DISPOSED. \n",
      "\u001b[1;31mView Jupyter <a href='command:jupyter.viewOutput'>log</a> for further details."
     ]
    },
    {
     "ename": "",
     "evalue": "",
     "output_type": "error",
     "traceback": [
      "\u001b[1;31mnotebook controller is DISPOSED. \n",
      "\u001b[1;31mView Jupyter <a href='command:jupyter.viewOutput'>log</a> for further details."
     ]
    }
   ],
   "source": [
    "viz.boxplots(data_salm, feature_name=\"Condition\")\n",
    "plt.show()"
   ]
  },
  {
   "cell_type": "markdown",
   "id": "d4f8ab7f",
   "metadata": {},
   "source": [
    "### Building Design Matrix for Covariate"
   ]
  },
  {
   "cell_type": "code",
   "execution_count": null,
   "id": "b62b21aa",
   "metadata": {},
   "outputs": [
    {
     "ename": "",
     "evalue": "",
     "output_type": "error",
     "traceback": [
      "\u001b[1;31mnotebook controller is DISPOSED. \n",
      "\u001b[1;31mView Jupyter <a href='command:jupyter.viewOutput'>log</a> for further details."
     ]
    },
    {
     "ename": "",
     "evalue": "",
     "output_type": "error",
     "traceback": [
      "\u001b[1;31mnotebook controller is DISPOSED. \n",
      "\u001b[1;31mView Jupyter <a href='command:jupyter.viewOutput'>log</a> for further details."
     ]
    }
   ],
   "source": [
    "import patsy as pt\n",
    "\n",
    "covariate_matrix_full = pt.dmatrix(\"Condition\", data_salm.obs)\n",
    "covariate_matrix=covariate_matrix_full[:,1:]\n",
    "covariate_names = [\"Condition\"]  "
   ]
  },
  {
   "cell_type": "code",
   "execution_count": null,
   "id": "f23422ce",
   "metadata": {},
   "outputs": [
    {
     "ename": "",
     "evalue": "",
     "output_type": "error",
     "traceback": [
      "\u001b[1;31mnotebook controller is DISPOSED. \n",
      "\u001b[1;31mView Jupyter <a href='command:jupyter.viewOutput'>log</a> for further details."
     ]
    },
    {
     "ename": "",
     "evalue": "",
     "output_type": "error",
     "traceback": [
      "\u001b[1;31mnotebook controller is DISPOSED. \n",
      "\u001b[1;31mView Jupyter <a href='command:jupyter.viewOutput'>log</a> for further details."
     ]
    }
   ],
   "source": [
    "import numpy as np\n",
    "\n",
    "cell_types = list(data_salm.var.index)\n",
    "ref_idx = cell_types.index(\"Goblet\")\n",
    "\n",
    "model_salm = EricaModel(\n",
    "    reference_cell_type=ref_idx,\n",
    "    data_matrix=data_salm.X.astype(\"float64\"),\n",
    "    covariate_matrix=np.array(covariate_matrix),\n",
    "    cell_types=cell_types,\n",
    "    covariate_names=covariate_names,\n",
    "    formula=\"Condition\"\n",
    ")\n"
   ]
  },
  {
   "cell_type": "markdown",
   "id": "a0f38e7b",
   "metadata": {},
   "source": [
    "We first run the default parameters as a baseline."
   ]
  },
  {
   "cell_type": "code",
   "execution_count": null,
   "id": "1b0dcd44",
   "metadata": {},
   "outputs": [
    {
     "name": "stderr",
     "output_type": "stream",
     "text": [
      "100%|██████████| 5000/5000 [00:08<00:00, 573.99it/s]\n"
     ]
    },
    {
     "name": "stdout",
     "output_type": "stream",
     "text": [
      "MCMC sampling finished. (12.308 sec)\n",
      "Acceptance rate: 43.4%\n",
      "Compositional Analysis summary:\n",
      "\n",
      "Data: 6 samples, 8 cell types\n",
      "Reference index: 3\n",
      "Formula: Condition\n",
      "\n",
      "Intercepts:\n",
      "                       Final Parameter  Expected Sample\n",
      "Cell Type                                              \n",
      "Endocrine                        1.106        33.520340\n",
      "Enterocyte                       2.340       115.140420\n",
      "Enterocyte.Progenitor            2.514       137.023497\n",
      "Goblet                           1.731        62.624240\n",
      "Stem                             2.741       171.941177\n",
      "TA                               2.145        94.741528\n",
      "TA.Early                         2.902       201.976716\n",
      "Tuft                             0.486        18.032081\n",
      "\n",
      "\n",
      "Effects:\n",
      "                                 Final Parameter  Expected Sample  \\\n",
      "Covariate Cell Type                                                 \n",
      "Condition Endocrine                      0.00000        23.545922   \n",
      "          Enterocyte                     1.40415       329.344100   \n",
      "          Enterocyte.Progenitor          0.00000        96.250355   \n",
      "          Goblet                         0.00000        43.989574   \n",
      "          Stem                           0.00000       120.777820   \n",
      "          TA                             0.00000        66.549941   \n",
      "          TA.Early                       0.00000       141.875890   \n",
      "          Tuft                           0.00000        12.666398   \n",
      "\n",
      "                                 log2-fold change  \n",
      "Covariate Cell Type                                \n",
      "Condition Endocrine                     -0.509560  \n",
      "          Enterocyte                     1.516201  \n",
      "          Enterocyte.Progenitor         -0.509560  \n",
      "          Goblet                        -0.509560  \n",
      "          Stem                          -0.509560  \n",
      "          TA                            -0.509560  \n",
      "          TA.Early                      -0.509560  \n",
      "          Tuft                          -0.509560  \n",
      "None\n"
     ]
    },
    {
     "ename": "",
     "evalue": "",
     "output_type": "error",
     "traceback": [
      "\u001b[1;31mnotebook controller is DISPOSED. \n",
      "\u001b[1;31mView Jupyter <a href='command:jupyter.viewOutput'>log</a> for further details."
     ]
    },
    {
     "ename": "",
     "evalue": "",
     "output_type": "error",
     "traceback": [
      "\u001b[1;31mnotebook controller is DISPOSED. \n",
      "\u001b[1;31mView Jupyter <a href='command:jupyter.viewOutput'>log</a> for further details."
     ]
    }
   ],
   "source": [
    "# Run HMC sampling\n",
    "sim_results = model_salm.sample_hmc(\n",
    "    num_results=5000,  \n",
    "    num_burnin=1000,\n",
    "    step_size=0.01,\n",
    "    num_leapfrog_steps=10\n",
    ")\n",
    "\n",
    "# Summary\n",
    "print(sim_results.summary())\n"
   ]
  },
  {
   "cell_type": "markdown",
   "id": "8a4cf7e3",
   "metadata": {},
   "source": [
    "We now run EricaModel 6 different times, changing one default parameter for each run. First, we begin by changing the mean of the alpha random variable (the intercept for the GLM) to 1.0. We then change the standard deviation of the alpha random variable to 2.0. We then change the sigma parameter (which controls the magnitude of the raw effect) to 0.5. We also alter the gamma random variable (drawn from Normal distribution which controls sign and magnitude of the raw effect). First, we change the mean from 0.0 to 0 and then the standard deviation from 1.0 to 0.5. Finaly, we change the log-odds scale from 50.0 to 25. "
   ]
  },
  {
   "cell_type": "code",
   "execution_count": null,
   "id": "133bdc0f",
   "metadata": {},
   "outputs": [
    {
     "name": "stdout",
     "output_type": "stream",
     "text": [
      "\n",
      "=== Running model with prior 1/12 ===\n",
      "\n"
     ]
    },
    {
     "name": "stderr",
     "output_type": "stream",
     "text": [
      "100%|██████████| 5000/5000 [00:08<00:00, 601.30it/s]\n"
     ]
    },
    {
     "name": "stdout",
     "output_type": "stream",
     "text": [
      "MCMC sampling finished. (11.772 sec)\n",
      "Acceptance rate: 52.1%\n",
      "Compositional Analysis summary:\n",
      "\n",
      "Data: 6 samples, 8 cell types\n",
      "Reference index: 3\n",
      "Formula: Condition\n",
      "\n",
      "Intercepts:\n",
      "                       Final Parameter  Expected Sample\n",
      "Cell Type                                              \n",
      "Endocrine                        1.116        34.445121\n",
      "Enterocyte                       2.337       116.788820\n",
      "Enterocyte.Progenitor            2.518       139.961495\n",
      "Goblet                           1.748        64.804001\n",
      "Stem                             2.711       169.756889\n",
      "TA                               2.117        93.725224\n",
      "TA.Early                         2.864       197.821943\n",
      "Tuft                             0.450        17.696508\n",
      "\n",
      "\n",
      "Effects:\n",
      "                                 Final Parameter  Expected Sample  \\\n",
      "Covariate Cell Type                                                 \n",
      "Condition Endocrine                     0.000000        24.768124   \n",
      "          Enterocyte                    1.333262       318.562750   \n",
      "          Enterocyte.Progenitor         0.000000       100.640775   \n",
      "          Goblet                        0.000000        46.597994   \n",
      "          Stem                          0.000000       122.065464   \n",
      "          TA                            0.000000        67.394101   \n",
      "          TA.Early                      0.000000       142.245934   \n",
      "          Tuft                          0.000000        12.724859   \n",
      "\n",
      "                                 log2-fold change  \n",
      "Covariate Cell Type                                \n",
      "Condition Endocrine                     -0.475815  \n",
      "          Enterocyte                     1.447675  \n",
      "          Enterocyte.Progenitor         -0.475815  \n",
      "          Goblet                        -0.475815  \n",
      "          Stem                          -0.475815  \n",
      "          TA                            -0.475815  \n",
      "          TA.Early                      -0.475815  \n",
      "          Tuft                          -0.475815  \n",
      "None\n",
      "\n",
      "=== Running model with prior 2/12 ===\n",
      "\n"
     ]
    },
    {
     "name": "stderr",
     "output_type": "stream",
     "text": [
      "100%|██████████| 5000/5000 [00:08<00:00, 591.67it/s]\n"
     ]
    },
    {
     "name": "stdout",
     "output_type": "stream",
     "text": [
      "MCMC sampling finished. (11.886 sec)\n",
      "Acceptance rate: 60.0%\n",
      "Compositional Analysis summary:\n",
      "\n",
      "Data: 6 samples, 8 cell types\n",
      "Reference index: 3\n",
      "Formula: Condition\n",
      "\n",
      "Intercepts:\n",
      "                       Final Parameter  Expected Sample\n",
      "Cell Type                                              \n",
      "Endocrine                        9.659        11.524882\n",
      "Enterocyte                      13.485       528.746080\n",
      "Enterocyte.Progenitor            7.896         1.976857\n",
      "Goblet                           5.441         0.169739\n",
      "Stem                            10.152        18.868773\n",
      "TA                              11.932       111.889113\n",
      "TA.Early                        -0.023         0.000719\n",
      "Tuft                            12.301       161.823837\n",
      "\n",
      "\n",
      "Effects:\n",
      "                                 Final Parameter  Expected Sample  \\\n",
      "Covariate Cell Type                                                 \n",
      "Condition Endocrine                   -11.149203         0.000095   \n",
      "          Enterocyte                    0.000000       301.906397   \n",
      "          Enterocyte.Progenitor         4.751468       130.658193   \n",
      "          Goblet                        0.000000         0.096919   \n",
      "          Stem                          3.028767       222.712926   \n",
      "          TA                            0.311385        87.225980   \n",
      "          TA.Early                      0.000000         0.000411   \n",
      "          Tuft                          0.000000        92.399080   \n",
      "\n",
      "                                 log2-fold change  \n",
      "Covariate Cell Type                                \n",
      "Condition Endocrine                    -16.893374  \n",
      "          Enterocyte                    -0.808474  \n",
      "          Enterocyte.Progenitor          6.046445  \n",
      "          Goblet                        -0.808474  \n",
      "          Stem                           3.561113  \n",
      "          TA                            -0.359240  \n",
      "          TA.Early                      -0.808474  \n",
      "          Tuft                          -0.808474  \n",
      "None\n",
      "\n",
      "=== Running model with prior 3/12 ===\n",
      "\n"
     ]
    },
    {
     "name": "stderr",
     "output_type": "stream",
     "text": [
      "100%|██████████| 5000/5000 [00:08<00:00, 597.43it/s]\n"
     ]
    },
    {
     "name": "stdout",
     "output_type": "stream",
     "text": [
      "MCMC sampling finished. (11.734 sec)\n",
      "Acceptance rate: 54.1%\n",
      "Compositional Analysis summary:\n",
      "\n",
      "Data: 6 samples, 8 cell types\n",
      "Reference index: 3\n",
      "Formula: Condition\n",
      "\n",
      "Intercepts:\n",
      "                       Final Parameter  Expected Sample\n",
      "Cell Type                                              \n",
      "Endocrine                       -0.108        57.274368\n",
      "Enterocyte                       0.683       126.324399\n",
      "Enterocyte.Progenitor            0.660       123.452096\n",
      "Goblet                           0.206        78.402295\n",
      "Stem                             0.834       146.914854\n",
      "TA                               0.382        93.489880\n",
      "TA.Early                         0.955       165.811764\n",
      "Tuft                            -0.387        43.330345\n",
      "\n",
      "\n",
      "Effects:\n",
      "                                 Final Parameter  Expected Sample  \\\n",
      "Covariate Cell Type                                                 \n",
      "Condition Endocrine                          0.0        57.274368   \n",
      "          Enterocyte                         0.0       126.324399   \n",
      "          Enterocyte.Progenitor              0.0       123.452096   \n",
      "          Goblet                             0.0        78.402295   \n",
      "          Stem                               0.0       146.914854   \n",
      "          TA                                 0.0        93.489880   \n",
      "          TA.Early                           0.0       165.811764   \n",
      "          Tuft                               0.0        43.330345   \n",
      "\n",
      "                                 log2-fold change  \n",
      "Covariate Cell Type                                \n",
      "Condition Endocrine                           0.0  \n",
      "          Enterocyte                          0.0  \n",
      "          Enterocyte.Progenitor               0.0  \n",
      "          Goblet                              0.0  \n",
      "          Stem                                0.0  \n",
      "          TA                                  0.0  \n",
      "          TA.Early                            0.0  \n",
      "          Tuft                                0.0  \n",
      "None\n",
      "\n",
      "=== Running model with prior 4/12 ===\n",
      "\n"
     ]
    },
    {
     "name": "stderr",
     "output_type": "stream",
     "text": [
      "100%|██████████| 5000/5000 [00:08<00:00, 595.19it/s]\n"
     ]
    },
    {
     "name": "stdout",
     "output_type": "stream",
     "text": [
      "MCMC sampling finished. (11.814 sec)\n",
      "Acceptance rate: 44.4%\n",
      "Compositional Analysis summary:\n",
      "\n",
      "Data: 6 samples, 8 cell types\n",
      "Reference index: 3\n",
      "Formula: Condition\n",
      "\n",
      "Intercepts:\n",
      "                       Final Parameter  Expected Sample\n",
      "Cell Type                                              \n",
      "Endocrine                        1.183        35.441028\n",
      "Enterocyte                       2.377       116.964462\n",
      "Enterocyte.Progenitor            2.593       145.164872\n",
      "Goblet                           1.810        66.345116\n",
      "Stem                             2.732       166.812453\n",
      "TA                               2.143        92.561209\n",
      "TA.Early                         2.885       194.390718\n",
      "Tuft                             0.467        17.320143\n",
      "\n",
      "\n",
      "Effects:\n",
      "                                 Final Parameter  Expected Sample  \\\n",
      "Covariate Cell Type                                                 \n",
      "Condition Endocrine                     0.000000        25.331887   \n",
      "          Enterocyte                    1.347791       321.775746   \n",
      "          Enterocyte.Progenitor         0.000000       103.758281   \n",
      "          Goblet                        0.000000        47.420943   \n",
      "          Stem                          0.000000       119.231141   \n",
      "          TA                            0.000000        66.159201   \n",
      "          TA.Early                      0.000000       138.943027   \n",
      "          Tuft                          0.000000        12.379774   \n",
      "\n",
      "                                 log2-fold change  \n",
      "Covariate Cell Type                                \n",
      "Condition Endocrine                     -0.484466  \n",
      "          Enterocyte                     1.459985  \n",
      "          Enterocyte.Progenitor         -0.484466  \n",
      "          Goblet                        -0.484466  \n",
      "          Stem                          -0.484466  \n",
      "          TA                            -0.484466  \n",
      "          TA.Early                      -0.484466  \n",
      "          Tuft                          -0.484466  \n",
      "None\n",
      "\n",
      "=== Running model with prior 5/12 ===\n",
      "\n"
     ]
    },
    {
     "name": "stderr",
     "output_type": "stream",
     "text": [
      "100%|██████████| 5000/5000 [00:08<00:00, 595.91it/s]\n"
     ]
    },
    {
     "name": "stdout",
     "output_type": "stream",
     "text": [
      "MCMC sampling finished. (12.056 sec)\n",
      "Acceptance rate: 53.6%\n",
      "Compositional Analysis summary:\n",
      "\n",
      "Data: 6 samples, 8 cell types\n",
      "Reference index: 3\n",
      "Formula: Condition\n",
      "\n",
      "Intercepts:\n",
      "                       Final Parameter  Expected Sample\n",
      "Cell Type                                              \n",
      "Endocrine                        1.114        34.739640\n",
      "Enterocyte                       2.347       119.209376\n",
      "Enterocyte.Progenitor            2.499       138.778815\n",
      "Goblet                           1.727        64.128021\n",
      "Stem                             2.690       167.986129\n",
      "TA                               2.119        94.905476\n",
      "TA.Early                         2.855       198.121684\n",
      "Tuft                             0.407        17.130858\n",
      "\n",
      "\n",
      "Effects:\n",
      "                                 Final Parameter  Expected Sample  \\\n",
      "Covariate Cell Type                                                 \n",
      "Condition Endocrine                     0.000000        25.315734   \n",
      "          Enterocyte                    1.283002       313.383624   \n",
      "          Enterocyte.Progenitor         0.000000       101.131952   \n",
      "          Goblet                        0.000000        46.731858   \n",
      "          Stem                          0.000000       122.416127   \n",
      "          TA                            0.000000        69.160239   \n",
      "          TA.Early                      0.000000       144.376737   \n",
      "          Tuft                          0.000000        12.483729   \n",
      "\n",
      "                                 log2-fold change  \n",
      "Covariate Cell Type                                \n",
      "Condition Endocrine                     -0.456548  \n",
      "          Enterocyte                     1.394432  \n",
      "          Enterocyte.Progenitor         -0.456548  \n",
      "          Goblet                        -0.456548  \n",
      "          Stem                          -0.456548  \n",
      "          TA                            -0.456548  \n",
      "          TA.Early                      -0.456548  \n",
      "          Tuft                          -0.456548  \n",
      "None\n",
      "\n",
      "=== Running model with prior 6/12 ===\n",
      "\n"
     ]
    },
    {
     "name": "stderr",
     "output_type": "stream",
     "text": [
      "100%|██████████| 5000/5000 [00:08<00:00, 593.48it/s]\n"
     ]
    },
    {
     "name": "stdout",
     "output_type": "stream",
     "text": [
      "MCMC sampling finished. (11.796 sec)\n",
      "Acceptance rate: 49.7%\n",
      "Compositional Analysis summary:\n",
      "\n",
      "Data: 6 samples, 8 cell types\n",
      "Reference index: 3\n",
      "Formula: Condition\n",
      "\n",
      "Intercepts:\n",
      "                       Final Parameter  Expected Sample\n",
      "Cell Type                                              \n",
      "Endocrine                        1.103        35.516866\n",
      "Enterocyte                       2.273       114.435081\n",
      "Enterocyte.Progenitor            2.485       141.458683\n",
      "Goblet                           1.712        65.301022\n",
      "Stem                             2.664       169.187520\n",
      "TA                               2.068        93.224232\n",
      "TA.Early                         2.823       198.344949\n",
      "Tuft                             0.397        17.531648\n",
      "\n",
      "\n",
      "Effects:\n",
      "                                 Final Parameter  Expected Sample  \\\n",
      "Covariate Cell Type                                                 \n",
      "Condition Endocrine                     0.000000        25.079523   \n",
      "          Enterocyte                    1.395421       326.187531   \n",
      "          Enterocyte.Progenitor         0.000000        99.888213   \n",
      "          Goblet                        0.000000        46.111007   \n",
      "          Stem                          0.000000       119.468375   \n",
      "          TA                            0.000000        65.828422   \n",
      "          TA.Early                      0.000000       140.057309   \n",
      "          Tuft                          0.000000        12.379621   \n",
      "\n",
      "                                 log2-fold change  \n",
      "Covariate Cell Type                                \n",
      "Condition Endocrine                     -0.501994  \n",
      "          Enterocyte                     1.511172  \n",
      "          Enterocyte.Progenitor         -0.501994  \n",
      "          Goblet                        -0.501994  \n",
      "          Stem                          -0.501994  \n",
      "          TA                            -0.501994  \n",
      "          TA.Early                      -0.501994  \n",
      "          Tuft                          -0.501994  \n",
      "None\n",
      "\n",
      "=== Running model with prior 7/12 ===\n",
      "\n"
     ]
    },
    {
     "name": "stderr",
     "output_type": "stream",
     "text": [
      "100%|██████████| 5000/5000 [00:08<00:00, 581.25it/s]\n"
     ]
    },
    {
     "name": "stdout",
     "output_type": "stream",
     "text": [
      "MCMC sampling finished. (12.062 sec)\n",
      "Acceptance rate: 53.7%\n",
      "Compositional Analysis summary:\n",
      "\n",
      "Data: 6 samples, 8 cell types\n",
      "Reference index: 3\n",
      "Formula: Condition\n",
      "\n",
      "Intercepts:\n",
      "                       Final Parameter  Expected Sample\n",
      "Cell Type                                              \n",
      "Endocrine                        1.064        34.041186\n",
      "Enterocyte                       2.296       116.695870\n",
      "Enterocyte.Progenitor            2.481       140.410623\n",
      "Goblet                           1.719        65.534135\n",
      "Stem                             2.662       168.270222\n",
      "TA                               2.074        93.463516\n",
      "TA.Early                         2.831       199.252159\n",
      "Tuft                             0.389        17.332289\n",
      "\n",
      "\n",
      "Effects:\n",
      "                                 Final Parameter  Expected Sample  \\\n",
      "Covariate Cell Type                                                 \n",
      "Condition Endocrine                     0.000000        24.175401   \n",
      "          Enterocyte                    1.366102       324.874111   \n",
      "          Enterocyte.Progenitor         0.000000        99.716946   \n",
      "          Goblet                        0.000000        46.541092   \n",
      "          Stem                          0.000000       119.502302   \n",
      "          TA                            0.000000        66.376006   \n",
      "          TA.Early                      0.000000       141.505082   \n",
      "          Tuft                          0.000000        12.309061   \n",
      "\n",
      "                                 log2-fold change  \n",
      "Covariate Cell Type                                \n",
      "Condition Endocrine                     -0.493741  \n",
      "          Enterocyte                     1.477127  \n",
      "          Enterocyte.Progenitor         -0.493741  \n",
      "          Goblet                        -0.493741  \n",
      "          Stem                          -0.493741  \n",
      "          TA                            -0.493741  \n",
      "          TA.Early                      -0.493741  \n",
      "          Tuft                          -0.493741  \n",
      "None\n",
      "\n",
      "=== Running model with prior 8/12 ===\n",
      "\n"
     ]
    },
    {
     "name": "stderr",
     "output_type": "stream",
     "text": [
      "100%|██████████| 5000/5000 [00:08<00:00, 563.28it/s]\n"
     ]
    },
    {
     "name": "stdout",
     "output_type": "stream",
     "text": [
      "MCMC sampling finished. (12.299 sec)\n",
      "Acceptance rate: 76.3%\n",
      "Compositional Analysis summary:\n",
      "\n",
      "Data: 6 samples, 8 cell types\n",
      "Reference index: 3\n",
      "Formula: Condition\n",
      "\n",
      "Intercepts:\n",
      "                       Final Parameter  Expected Sample\n",
      "Cell Type                                              \n",
      "Endocrine                        0.999        33.656981\n",
      "Enterocyte                       2.231       115.378785\n",
      "Enterocyte.Progenitor            2.429       140.642400\n",
      "Goblet                           1.670        65.839535\n",
      "Stem                             2.630       171.952883\n",
      "TA                               1.967        88.607854\n",
      "TA.Early                         2.771       197.990787\n",
      "Tuft                             0.524        20.930774\n",
      "\n",
      "\n",
      "Effects:\n",
      "                                 Final Parameter  Expected Sample  \\\n",
      "Covariate Cell Type                                                 \n",
      "Condition Endocrine                     0.000000        23.497283   \n",
      "          Enterocyte                    1.418067       332.603692   \n",
      "          Enterocyte.Progenitor         0.000000        98.188076   \n",
      "          Goblet                        0.000000        45.965209   \n",
      "          Stem                          0.000000       120.047174   \n",
      "          TA                            0.000000        61.860682   \n",
      "          TA.Early                      0.000000       138.225275   \n",
      "          Tuft                          0.000000        14.612609   \n",
      "\n",
      "                                 log2-fold change  \n",
      "Covariate Cell Type                                \n",
      "Condition Endocrine                     -0.518412  \n",
      "          Enterocyte                     1.527426  \n",
      "          Enterocyte.Progenitor         -0.518412  \n",
      "          Goblet                        -0.518412  \n",
      "          Stem                          -0.518412  \n",
      "          TA                            -0.518412  \n",
      "          TA.Early                      -0.518412  \n",
      "          Tuft                          -0.518412  \n",
      "None\n",
      "\n",
      "=== Running model with prior 9/12 ===\n",
      "\n"
     ]
    },
    {
     "name": "stderr",
     "output_type": "stream",
     "text": [
      "100%|██████████| 5000/5000 [00:09<00:00, 553.72it/s]\n"
     ]
    },
    {
     "name": "stdout",
     "output_type": "stream",
     "text": [
      "MCMC sampling finished. (12.634 sec)\n",
      "Acceptance rate: 49.1%\n",
      "Compositional Analysis summary:\n",
      "\n",
      "Data: 6 samples, 8 cell types\n",
      "Reference index: 3\n",
      "Formula: Condition\n",
      "\n",
      "Intercepts:\n",
      "                       Final Parameter  Expected Sample\n",
      "Cell Type                                              \n",
      "Endocrine                        1.110        35.232102\n",
      "Enterocyte                       2.343       120.899263\n",
      "Enterocyte.Progenitor            2.476       138.097183\n",
      "Goblet                           1.710        64.197076\n",
      "Stem                             2.675       168.503693\n",
      "TA                               2.088        93.686834\n",
      "TA.Early                         2.832       197.148582\n",
      "Tuft                             0.395        17.235267\n",
      "\n",
      "\n",
      "Effects:\n",
      "                                 Final Parameter  Expected Sample  \\\n",
      "Covariate Cell Type                                                 \n",
      "Condition Endocrine                     0.000000        25.868075   \n",
      "          Enterocyte                    1.252798       310.693744   \n",
      "          Enterocyte.Progenitor         0.000000       101.393562   \n",
      "          Goblet                        0.000000        47.134706   \n",
      "          Stem                          0.000000       123.718596   \n",
      "          TA                            0.000000        68.786644   \n",
      "          TA.Early                      0.000000       144.750214   \n",
      "          Tuft                          0.000000        12.654458   \n",
      "\n",
      "                                 log2-fold change  \n",
      "Covariate Cell Type                                \n",
      "Condition Endocrine                     -0.445718  \n",
      "          Enterocyte                     1.361688  \n",
      "          Enterocyte.Progenitor         -0.445718  \n",
      "          Goblet                        -0.445718  \n",
      "          Stem                          -0.445718  \n",
      "          TA                            -0.445718  \n",
      "          TA.Early                      -0.445718  \n",
      "          Tuft                          -0.445718  \n",
      "None\n",
      "\n",
      "=== Running model with prior 10/12 ===\n",
      "\n"
     ]
    },
    {
     "name": "stderr",
     "output_type": "stream",
     "text": [
      "100%|██████████| 5000/5000 [00:08<00:00, 556.22it/s]\n"
     ]
    },
    {
     "name": "stdout",
     "output_type": "stream",
     "text": [
      "MCMC sampling finished. (12.483 sec)\n",
      "Acceptance rate: 96.5%\n",
      "Compositional Analysis summary:\n",
      "\n",
      "Data: 6 samples, 8 cell types\n",
      "Reference index: 3\n",
      "Formula: Condition\n",
      "\n",
      "Intercepts:\n",
      "                       Final Parameter  Expected Sample\n",
      "Cell Type                                              \n",
      "Endocrine                        1.218        37.209742\n",
      "Enterocyte                       2.341       114.385075\n",
      "Enterocyte.Progenitor            2.555       141.679946\n",
      "Goblet                           1.774        64.882024\n",
      "Stem                             2.707       164.938159\n",
      "TA                               2.162        95.638036\n",
      "TA.Early                         2.893       198.655191\n",
      "Tuft                             0.470        17.611826\n",
      "\n",
      "\n",
      "Effects:\n",
      "                                 Final Parameter  Expected Sample  \\\n",
      "Covariate Cell Type                                                 \n",
      "Condition Endocrine                     0.000000        26.427106   \n",
      "          Enterocyte                    1.380896       323.204817   \n",
      "          Enterocyte.Progenitor         0.000000       100.623941   \n",
      "          Goblet                        0.000000        46.080516   \n",
      "          Stem                          0.000000       117.142391   \n",
      "          TA                            0.000000        67.924053   \n",
      "          TA.Early                      0.000000       141.088904   \n",
      "          Tuft                          0.000000        12.508272   \n",
      "\n",
      "                                 log2-fold change  \n",
      "Covariate Cell Type                                \n",
      "Condition Endocrine                     -0.493662  \n",
      "          Enterocyte                     1.498550  \n",
      "          Enterocyte.Progenitor         -0.493662  \n",
      "          Goblet                        -0.493662  \n",
      "          Stem                          -0.493662  \n",
      "          TA                            -0.493662  \n",
      "          TA.Early                      -0.493662  \n",
      "          Tuft                          -0.493662  \n",
      "None\n",
      "\n",
      "=== Running model with prior 11/12 ===\n",
      "\n"
     ]
    },
    {
     "name": "stderr",
     "output_type": "stream",
     "text": [
      "100%|██████████| 5000/5000 [00:08<00:00, 598.52it/s]\n"
     ]
    },
    {
     "name": "stdout",
     "output_type": "stream",
     "text": [
      "MCMC sampling finished. (11.734 sec)\n",
      "Acceptance rate: 69.3%\n",
      "Compositional Analysis summary:\n",
      "\n",
      "Data: 6 samples, 8 cell types\n",
      "Reference index: 3\n",
      "Formula: Condition\n",
      "\n",
      "Intercepts:\n",
      "                       Final Parameter  Expected Sample\n",
      "Cell Type                                              \n",
      "Endocrine                        1.063        32.984107\n",
      "Enterocyte                       2.359       120.545325\n",
      "Enterocyte.Progenitor            2.484       136.595749\n",
      "Goblet                           1.715        63.308894\n",
      "Stem                             2.720       172.954028\n",
      "TA                               2.129        95.777312\n",
      "TA.Early                         2.844       195.786705\n",
      "Tuft                             0.403        17.047880\n",
      "\n",
      "\n",
      "Effects:\n",
      "                                 Final Parameter  Expected Sample  \\\n",
      "Covariate Cell Type                                                 \n",
      "Condition Endocrine                     0.193318        31.214941   \n",
      "          Enterocyte                    1.225845       320.352928   \n",
      "          Enterocyte.Progenitor         0.027909       109.561713   \n",
      "          Goblet                        0.000000        49.381644   \n",
      "          Stem                         -0.241816       105.928297   \n",
      "          TA                           -0.218062        60.070380   \n",
      "          TA.Early                     -0.051790       145.007942   \n",
      "          Tuft                          0.013788        13.482155   \n",
      "\n",
      "                                 log2-fold change  \n",
      "Covariate Cell Type                                \n",
      "Condition Endocrine                     -0.079534  \n",
      "          Enterocyte                     1.410086  \n",
      "          Enterocyte.Progenitor         -0.318169  \n",
      "          Goblet                        -0.358433  \n",
      "          Stem                          -0.707301  \n",
      "          TA                            -0.673030  \n",
      "          TA.Early                      -0.433151  \n",
      "          Tuft                          -0.338541  \n",
      "None\n",
      "\n",
      "=== Running model with prior 12/12 ===\n",
      "\n"
     ]
    },
    {
     "name": "stderr",
     "output_type": "stream",
     "text": [
      "100%|██████████| 5000/5000 [00:08<00:00, 594.20it/s]\n"
     ]
    },
    {
     "name": "stdout",
     "output_type": "stream",
     "text": [
      "MCMC sampling finished. (11.834 sec)\n",
      "Acceptance rate: 60.2%\n",
      "Compositional Analysis summary:\n",
      "\n",
      "Data: 6 samples, 8 cell types\n",
      "Reference index: 3\n",
      "Formula: Condition\n",
      "\n",
      "Intercepts:\n",
      "                       Final Parameter  Expected Sample\n",
      "Cell Type                                              \n",
      "Endocrine                        1.116        34.177601\n",
      "Enterocyte                       2.339       116.113772\n",
      "Enterocyte.Progenitor            2.533       140.973299\n",
      "Goblet                           1.758        64.946932\n",
      "Stem                             2.719       169.791379\n",
      "TA                               2.131        94.308423\n",
      "TA.Early                         2.869       197.269439\n",
      "Tuft                             0.442        17.419156\n",
      "\n",
      "\n",
      "Effects:\n",
      "                                 Final Parameter  Expected Sample  \\\n",
      "Covariate Cell Type                                                 \n",
      "Condition Endocrine                      0.00000        24.358863   \n",
      "          Enterocyte                     1.36064       322.639545   \n",
      "          Enterocyte.Progenitor          0.00000       100.473678   \n",
      "          Goblet                         0.00000        46.288603   \n",
      "          Stem                           0.00000       121.012735   \n",
      "          TA                             0.00000        67.214956   \n",
      "          TA.Early                       0.00000       140.596739   \n",
      "          Tuft                           0.00000        12.414880   \n",
      "\n",
      "                                 log2-fold change  \n",
      "Covariate Cell Type                                \n",
      "Condition Endocrine                     -0.488604  \n",
      "          Enterocyte                     1.474384  \n",
      "          Enterocyte.Progenitor         -0.488604  \n",
      "          Goblet                        -0.488604  \n",
      "          Stem                          -0.488604  \n",
      "          TA                            -0.488604  \n",
      "          TA.Early                      -0.488604  \n",
      "          Tuft                          -0.488604  \n",
      "None\n"
     ]
    },
    {
     "ename": "",
     "evalue": "",
     "output_type": "error",
     "traceback": [
      "\u001b[1;31mnotebook controller is DISPOSED. \n",
      "\u001b[1;31mView Jupyter <a href='command:jupyter.viewOutput'>log</a> for further details."
     ]
    },
    {
     "ename": "",
     "evalue": "",
     "output_type": "error",
     "traceback": [
      "\u001b[1;31mnotebook controller is DISPOSED. \n",
      "\u001b[1;31mView Jupyter <a href='command:jupyter.viewOutput'>log</a> for further details."
     ]
    }
   ],
   "source": [
    "default_priors = {\n",
    "    \"alpha_loc\": 0.0,\n",
    "    \"alpha_sd\": 5.0,\n",
    "    \"sigma_hc_scale\": 1.0,\n",
    "    \"gamma_loc\": 0.0,\n",
    "    \"gamma_sd\": 1.0,\n",
    "    \"tau_temperature\": 50.0\n",
    "}\n",
    "\n",
    "# Each dict changes only one prior from the default\n",
    "priors_list = [\n",
    "    {**default_priors, \"alpha_loc\": 0.5},\n",
    "    {**default_priors, \"alpha_loc\": 10.0},          \n",
    "    {**default_priors, \"alpha_sd\": 0.5},\n",
    "    {**default_priors, \"alpha_sd\": 10.0},            \n",
    "    {**default_priors, \"sigma_hc_scale\": 0.25},   \n",
    "    {**default_priors, \"sigma_hc_scale\": 5.0},   \n",
    "    {**default_priors, \"gamma_loc\": 0.25}, \n",
    "    {**default_priors, \"gamma_loc\": 5.0},          \n",
    "    {**default_priors, \"gamma_sd\": 0.25},\n",
    "    {**default_priors, \"gamma_sd\": 5.0},             \n",
    "    {**default_priors, \"tau_temperature\": 1.0},\n",
    "    {**default_priors, \"tau_temperature\": 100.0}\n",
    "]\n",
    "\n",
    "results = []\n",
    "\n",
    "for i, priors in enumerate(priors_list, 1):\n",
    "    print(f\"\\n=== Running model with prior {i}/{len(priors_list)} ===\\n\")\n",
    "    \n",
    "    cell_types = list(data_salm.var.index)\n",
    "    ref_idx = cell_types.index(\"Goblet\")\n",
    "\n",
    "    model = EricaModel(\n",
    "        reference_cell_type=ref_idx,\n",
    "        data_matrix=data_salm.X.astype(\"float64\"),\n",
    "        covariate_matrix=covariate_matrix,\n",
    "        cell_types=cell_types,\n",
    "        covariate_names=covariate_names,\n",
    "        formula=\"Condition\",\n",
    "        **priors  \n",
    "    )\n",
    "    \n",
    "    # Run HMC sampling\n",
    "    sample_result = model.sample_hmc(num_results=5000, num_burnin=1000)\n",
    "    results.append(sample_result)\n",
    "    \n",
    "    # Print summary of the last run\n",
    "    print(sample_result.summary())\n"
   ]
  },
  {
   "cell_type": "code",
   "execution_count": null,
   "id": "940666bd",
   "metadata": {},
   "outputs": [
    {
     "ename": "",
     "evalue": "",
     "output_type": "error",
     "traceback": [
      "\u001b[1;31mnotebook controller is DISPOSED. \n",
      "\u001b[1;31mView Jupyter <a href='command:jupyter.viewOutput'>log</a> for further details."
     ]
    }
   ],
   "source": [
    "def values(arr):\n",
    "        mean = arr.mean(axis=(0,1))               \n",
    "        lo = np.percentile(arr, 2.5, axis=(0,1))  \n",
    "        hi = np.percentile(arr, 97.5, axis=(0,1))  \n",
    "        return mean, lo, hi"
   ]
  },
  {
   "cell_type": "code",
   "execution_count": null,
   "id": "c1c99258",
   "metadata": {},
   "outputs": [
    {
     "ename": "",
     "evalue": "",
     "output_type": "error",
     "traceback": [
      "\u001b[1;31mnotebook controller is DISPOSED. \n",
      "\u001b[1;31mView Jupyter <a href='command:jupyter.viewOutput'>log</a> for further details."
     ]
    }
   ],
   "source": [
    "def summarize(data, prior_label, reference=0):\n",
    "    \"Extract summaries from inference data object\"\n",
    "    \n",
    "    pred = data.posterior_predictive[\"prediction\"].values\n",
    "    cell_types = list(data.posterior_predictive.cell_type.values)\n",
    "    reference_name = cell_types[reference]\n",
    "    \n",
    "    # Overall expected samples\n",
    "    pred_mean, pred_lo, pred_hi = values(pred)\n",
    "    \n",
    "     # intercept expected sample\n",
    "    alpha = data.posterior[\"alpha\"].values  \n",
    "    alpha_mean, alpha_lo, alpha_hi = values(alpha[..., np.newaxis])  \n",
    "    \n",
    "     # effect expected sample\n",
    "    beta = data.posterior[\"beta\"].values \n",
    "    beta_mean, beta_lo, beta_hi = values(beta[..., 0, :][..., np.newaxis])\n",
    "    \n",
    "    #log fold change\n",
    "    ref_pred = pred[..., reference:reference+1] \n",
    "    logfc = np.log2(pred / ref_pred)\n",
    "    logfc_mean, logfc_lo, logfc_hi = values(logfc)\n",
    "    \n",
    "    rows = []\n",
    "    for i, ct in enumerate(cell_types):\n",
    "        rows.append({\n",
    "            \"cell_type\": ct,\n",
    "            \"reference\": reference_name,\n",
    "            \"prior\": prior_label,\n",
    "            \"metric\": \"expected_sample\",\n",
    "            \"mean\": pred_mean[:, i].mean(),\n",
    "            \"lo\": pred_lo[:, i].mean(),\n",
    "            \"hi\": pred_hi[:, i].mean()\n",
    "        })\n",
    "        rows.append({\n",
    "            \"cell_type\": ct,\n",
    "            \"reference\": reference_name,\n",
    "            \"prior\": prior_label,\n",
    "            \"metric\": \"intercept_expected_sample\",\n",
    "            \"mean\": alpha_mean[:, i].mean(),\n",
    "            \"lo\": alpha_lo[:, i].mean(),\n",
    "            \"hi\": alpha_hi[:, i].mean()\n",
    "        })\n",
    "        rows.append({\n",
    "            \"cell_type\": ct,\n",
    "            \"reference\": reference_name,\n",
    "            \"prior\": prior_label,\n",
    "            \"metric\": \"effect_expected_sample\",\n",
    "            \"mean\": beta_mean[:, i].mean(),\n",
    "            \"lo\": beta_lo[:, i].mean(),\n",
    "            \"hi\": beta_hi[:, i].mean()\n",
    "        })\n",
    "        rows.append({\n",
    "            \"cell_type\": ct,\n",
    "            \"reference\": reference_name,\n",
    "            \"prior\": prior_label,\n",
    "            \"metric\": \"log2FC\",\n",
    "            \"mean\": logfc_mean[:, i].mean(),\n",
    "            \"lo\": logfc_lo[:, i].mean(),\n",
    "            \"hi\": logfc_hi[:, i].mean()\n",
    "        })\n",
    "\n",
    "    return pd.DataFrame(rows)"
   ]
  },
  {
   "cell_type": "code",
   "execution_count": null,
   "id": "b2a3ba08",
   "metadata": {},
   "outputs": [
    {
     "ename": "",
     "evalue": "",
     "output_type": "error",
     "traceback": [
      "\u001b[1;31mnotebook controller is DISPOSED. \n",
      "\u001b[1;31mView Jupyter <a href='command:jupyter.viewOutput'>log</a> for further details."
     ]
    }
   ],
   "source": [
    "import seaborn as sns\n",
    "import matplotlib.pyplot as plt\n",
    "\n",
    "def plot_grid(df):\n",
    "    metrics = [\"expected_samples\", \"log2FC\", \"effect_expected_sample\", \"intercept_expected_sample\"]\n",
    "    n_metrics = len(metrics)\n",
    "    cell_types = df[\"cell_type\"].unique()\n",
    "    n_cells = len(cell_types)\n",
    "\n",
    "    fig, axes = plt.subplots(n_cells, n_metrics, figsize=(4*n_metrics, 3*n_cells), sharex=\"col\")\n",
    "\n",
    "    if n_cells == 1: \n",
    "        axes = axes[np.newaxis, :]\n",
    "\n",
    "    for i, ct in enumerate(cell_types):\n",
    "        for j, metric in enumerate(metrics):\n",
    "            sub = df[(df[\"cell_type\"] == ct) & (df[\"metric\"] == metric)]\n",
    "\n",
    "            if metric == \"expected_sample\":\n",
    "                axes[i, j].bar(sub[\"prior\"], sub[\"mean\"])\n",
    "\n",
    "            else:\n",
    "                axes[i, j].errorbar(\n",
    "                    sub[\"prior\"], sub[\"mean\"],\n",
    "                    yerr=[sub[\"mean\"]-sub[\"lo\"], sub[\"hi\"]-sub[\"mean\"]],\n",
    "                    fmt=\"-o\"\n",
    "                )\n",
    "\n",
    "            if i == 0:\n",
    "                axes[i, j].set_title(metric.replace(\"_\", \" \").title())\n",
    "            if j == 0:\n",
    "                axes[i, j].set_ylabel(ct)\n",
    "            else:\n",
    "                axes[i, j].set_ylabel(\"\")\n",
    "\n",
    "    plt.tight_layout()\n",
    "    return fig, axes\n"
   ]
  },
  {
   "cell_type": "code",
   "execution_count": null,
   "id": "2b2b8d60",
   "metadata": {},
   "outputs": [
    {
     "ename": "NameError",
     "evalue": "name 'sim_results' is not defined",
     "output_type": "error",
     "traceback": [
      "\u001b[31m---------------------------------------------------------------------------\u001b[39m",
      "\u001b[31mNameError\u001b[39m                                 Traceback (most recent call last)",
      "\u001b[36mCell\u001b[39m\u001b[36m \u001b[39m\u001b[32mIn[5]\u001b[39m\u001b[32m, line 1\u001b[39m\n\u001b[32m----> \u001b[39m\u001b[32m1\u001b[39m df_default = summarize(\u001b[43msim_results\u001b[49m, prior_label=\u001b[33m\"\u001b[39m\u001b[33mdefault\u001b[39m\u001b[33m\"\u001b[39m, reference=ref_idx)\n\u001b[32m      2\u001b[39m df_low = summarize(results[\u001b[32m0\u001b[39m], prior_label=\u001b[33m\"\u001b[39m\u001b[33mlow\u001b[39m\u001b[33m\"\u001b[39m, reference=ref_idx)\n\u001b[32m      3\u001b[39m df_high = summarize(results[\u001b[32m1\u001b[39m], prior_label=\u001b[33m\"\u001b[39m\u001b[33mhigh\u001b[39m\u001b[33m\"\u001b[39m, reference=ref_idx)\n",
      "\u001b[31mNameError\u001b[39m: name 'sim_results' is not defined"
     ]
    },
    {
     "ename": "",
     "evalue": "",
     "output_type": "error",
     "traceback": [
      "\u001b[1;31mnotebook controller is DISPOSED. \n",
      "\u001b[1;31mView Jupyter <a href='command:jupyter.viewOutput'>log</a> for further details."
     ]
    }
   ],
   "source": [
    "df_default = summarize(sim_results, prior_label=\"default\", reference=ref_idx)\n",
    "df_low = summarize(results[0], prior_label=\"low\", reference=ref_idx)\n",
    "df_high = summarize(results[1], prior_label=\"high\", reference=ref_idx)\n",
    "df_all = pd.concat([df_default, df_low, df_high], ignore_index=True)\n",
    "\n",
    "plot_grid(df_all)\n",
    "plt.show()"
   ]
  }
 ],
 "metadata": {
  "kernelspec": {
   "display_name": "Python (sccoda-env)",
   "language": "python",
   "name": "sccoda-env"
  },
  "language_info": {
   "codemirror_mode": {
    "name": "ipython",
    "version": 3
   },
   "file_extension": ".py",
   "mimetype": "text/x-python",
   "name": "python",
   "nbconvert_exporter": "python",
   "pygments_lexer": "ipython3",
   "version": "3.12.4"
  }
 },
 "nbformat": 4,
 "nbformat_minor": 5
}
