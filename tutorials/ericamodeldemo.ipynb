{
 "cells": [
  {
   "cell_type": "code",
   "execution_count": 1,
   "id": "65bb7788",
   "metadata": {},
   "outputs": [],
   "source": [
    "# Setup\n",
    "import importlib\n",
    "import warnings\n",
    "warnings.filterwarnings(\"ignore\")\n",
    "\n",
    "import pandas as pd\n",
    "import pickle as pkl\n",
    "import matplotlib.pyplot as plt\n",
    "from sccoda.util import cell_composition_data as dat\n",
    "from sccoda.util import data_visualization as viz\n",
    "\n",
    "import sccoda.datasets as scd\n",
    "\n",
    "from sccoda.model.scCODA_model import EricaModel"
   ]
  },
  {
   "cell_type": "markdown",
   "id": "5b850851",
   "metadata": {},
   "source": [
    "### Loading Data"
   ]
  },
  {
   "cell_type": "code",
   "execution_count": 2,
   "id": "4b79a12a",
   "metadata": {},
   "outputs": [
    {
     "name": "stdout",
     "output_type": "stream",
     "text": [
      "            Mouse  Endocrine  Enterocyte  Enterocyte.Progenitor  Goblet  Stem  \\\n",
      "0       Control_1         36          59                    136      36   239   \n",
      "1       Control_2          5          46                     23      20    50   \n",
      "2       Control_3         45          98                    188     124   250   \n",
      "3       Control_4         26         221                    198      36   131   \n",
      "4  H.poly.Day10_1         42          71                    203     147   271   \n",
      "5  H.poly.Day10_2         40          57                    383     170   321   \n",
      "6   H.poly.Day3_1         52          75                    347      66   323   \n",
      "7   H.poly.Day3_2         65         126                    115      33    65   \n",
      "8          Salm_1         37         332                    113      59    90   \n",
      "9          Salm_2         32         373                    116      67   117   \n",
      "\n",
      "    TA  TA.Early  Tuft  \n",
      "0  125       191    18  \n",
      "1   11        40     5  \n",
      "2  155       365    33  \n",
      "3  130       196     4  \n",
      "4  109       180   146  \n",
      "5  244       256    71  \n",
      "6  263       313    51  \n",
      "7   39       129    59  \n",
      "8   47       132    10  \n",
      "9   65       168    12  \n"
     ]
    }
   ],
   "source": [
    "# Read data into pandas from csv\n",
    "\n",
    "cell_counts = scd.haber()\n",
    "\n",
    "print(cell_counts)"
   ]
  },
  {
   "cell_type": "markdown",
   "id": "c249f0d4",
   "metadata": {},
   "source": [
    "### Converting data to anndata object"
   ]
  },
  {
   "cell_type": "code",
   "execution_count": 3,
   "id": "2e214ef4",
   "metadata": {},
   "outputs": [
    {
     "name": "stdout",
     "output_type": "stream",
     "text": [
      "AnnData object with n_obs × n_vars = 10 × 8\n",
      "    obs: 'Mouse', 'Condition'\n"
     ]
    }
   ],
   "source": [
    "# Convert data to anndata object\n",
    "data_all = dat.from_pandas(cell_counts, covariate_columns=[\"Mouse\"])\n",
    "\n",
    "# Extract condition from mouse name and add it as an extra column to the covariates\n",
    "data_all.obs[\"Condition\"] = data_all.obs[\"Mouse\"].str.replace(r\"_[0-9]\", \"\", regex=True)\n",
    "print(data_all)"
   ]
  },
  {
   "cell_type": "code",
   "execution_count": 4,
   "id": "fff30555",
   "metadata": {},
   "outputs": [
    {
     "name": "stdout",
     "output_type": "stream",
     "text": [
      "       Mouse Condition\n",
      "0  Control_1   Control\n",
      "1  Control_2   Control\n",
      "2  Control_3   Control\n",
      "3  Control_4   Control\n",
      "8     Salm_1      Salm\n",
      "9     Salm_2      Salm\n"
     ]
    }
   ],
   "source": [
    "\n",
    "# Select control and salmonella data\n",
    "data_salm = data_all[data_all.obs[\"Condition\"].isin([\"Control\", \"Salm\"])]\n",
    "print(data_salm.obs)\n"
   ]
  },
  {
   "cell_type": "code",
   "execution_count": 5,
   "id": "fe38c86f",
   "metadata": {},
   "outputs": [
    {
     "data": {
      "image/png": "[encoded data removed]",
      "text/plain": [
       "<Figure size 640x480 with 1 Axes>"
      ]
     },
     "metadata": {},
     "output_type": "display_data"
    }
   ],
   "source": [
    "viz.boxplots(data_salm, feature_name=\"Condition\")\n",
    "plt.show()"
   ]
  },
  {
   "cell_type": "markdown",
   "id": "d4f8ab7f",
   "metadata": {},
   "source": [
    "### Building Design Matrix for Covariate"
   ]
  },
  {
   "cell_type": "code",
   "execution_count": 14,
   "id": "b62b21aa",
   "metadata": {},
   "outputs": [],
   "source": [
    "import patsy as pt\n",
    "\n",
    "covariate_matrix_full = pt.dmatrix(\"Condition\", data_salm.obs)\n",
    "covariate_matrix=covariate_matrix_full[:,1:]\n",
    "covariate_names = [\"Condition\"]  "
   ]
  },
  {
   "cell_type": "code",
   "execution_count": 7,
   "id": "f23422ce",
   "metadata": {},
   "outputs": [],
   "source": [
    "import numpy as np\n",
    "\n",
    "ref_index = list(data_salm.var.index).index(\"Goblet\")\n",
    "\n",
    "model_salm = EricaModel(\n",
    "    reference_cell_type=ref_index,\n",
    "    data_matrix=data_salm.X.astype(\"float64\"),\n",
    "    covariate_matrix=np.array(covariate_matrix),\n",
    "    cell_types=list(data_salm.var.index),\n",
    "    covariate_names=covariate_names,\n",
    "    formula=\"Condition\"\n",
    ")\n"
   ]
  },
  {
   "cell_type": "markdown",
   "id": "a0f38e7b",
   "metadata": {},
   "source": [
    "We first run the default parameters as a baseline."
   ]
  },
  {
   "cell_type": "code",
   "execution_count": 8,
   "id": "1b0dcd44",
   "metadata": {},
   "outputs": [
    {
     "name": "stderr",
     "output_type": "stream",
     "text": [
      "  0%|          | 0/5000 [00:00<?, ?it/s]2025-09-20 11:52:00.906761: I external/local_xla/xla/service/service.cc:163] XLA service 0x2a700c320 initialized for platform Host (this does not guarantee that XLA will be used). Devices:\n",
      "2025-09-20 11:52:00.906780: I external/local_xla/xla/service/service.cc:171]   StreamExecutor device (0): Host, Default Version\n",
      "2025-09-20 11:52:01.025001: I tensorflow/compiler/mlir/tensorflow/utils/dump_mlir_util.cc:269] disabling MLIR crash reproducer, set env var `MLIR_CRASH_REPRODUCER_DIRECTORY` to enable.\n",
      "WARNING: All log messages before absl::InitializeLog() is called are written to STDERR\n",
      "I0000 00:00:1758365521.747423 9688616 device_compiler.h:196] Compiled cluster using XLA!  This line is logged at most once for the lifetime of the process.\n",
      "100%|██████████| 5000/5000 [00:13<00:00, 365.47it/s]\n"
     ]
    },
    {
     "name": "stdout",
     "output_type": "stream",
     "text": [
      "MCMC sampling finished. (19.589 sec)\n",
      "Acceptance rate: 56.9%\n",
      "Compositional Analysis summary:\n",
      "\n",
      "Data: 6 samples, 8 cell types\n",
      "Reference index: 3\n",
      "Formula: Condition\n",
      "\n",
      "Intercepts:\n",
      "                       Final Parameter  Expected Sample\n",
      "Cell Type                                              \n",
      "Endocrine                        1.089        34.739995\n",
      "Enterocyte                       2.307       117.435778\n",
      "Enterocyte.Progenitor            2.489       140.877627\n",
      "Goblet                           1.721        65.358769\n",
      "Stem                             2.664       167.819940\n",
      "TA                               2.078        93.400025\n",
      "TA.Early                         2.829       197.925682\n",
      "Tuft                             0.400        17.442184\n",
      "\n",
      "\n",
      "Effects:\n",
      "                                 Final Parameter  Expected Sample  \\\n",
      "Covariate Cell Type                                                 \n",
      "Condition Endocrine                      0.00000        24.784197   \n",
      "          Enterocyte                     1.34968       323.075538   \n",
      "          Enterocyte.Progenitor          0.00000       100.504876   \n",
      "          Goblet                         0.00000        46.628234   \n",
      "          Stem                           0.00000       119.726054   \n",
      "          TA                             0.00000        66.633420   \n",
      "          TA.Early                       0.00000       141.204084   \n",
      "          Tuft                           0.00000        12.443598   \n",
      "\n",
      "                                 log2-fold change  \n",
      "Covariate Cell Type                                \n",
      "Condition Endocrine                     -0.487177  \n",
      "          Enterocyte                     1.460000  \n",
      "          Enterocyte.Progenitor         -0.487177  \n",
      "          Goblet                        -0.487177  \n",
      "          Stem                          -0.487177  \n",
      "          TA                            -0.487177  \n",
      "          TA.Early                      -0.487177  \n",
      "          Tuft                          -0.487177  \n",
      "None\n"
     ]
    }
   ],
   "source": [
    "# Run HMC sampling\n",
    "sim_results = model_salm.sample_hmc(\n",
    "    num_results=5000,  \n",
    "    num_burnin=1000,\n",
    "    step_size=0.01,\n",
    "    num_leapfrog_steps=10\n",
    ")\n",
    "\n",
    "# Summary\n",
    "print(sim_results.summary())\n"
   ]
  },
  {
   "cell_type": "markdown",
   "id": "8a4cf7e3",
   "metadata": {},
   "source": [
    "We now run EricaModel 6 different times, changing one default parameter for each run. First, we begin by changing the mean of the alpha random variable (the intercept for the GLM) to 1.0. We then change the standard deviation of the alpha random variable to 2.0. We then change the sigma parameter (which controls the magnitude of the raw effect) to 0.5. We also alter the gamma random variable (drawn from Normal distribution which controls sign and magnitude of the raw effect). First, we change the mean from 0.0 to 0 and then the standard deviation from 1.0 to 0.5. Finaly, we change the log-odds scale from 50.0 to 25. "
   ]
  },
  {
   "cell_type": "code",
   "execution_count": 9,
   "id": "133bdc0f",
   "metadata": {},
   "outputs": [
    {
     "name": "stdout",
     "output_type": "stream",
     "text": [
      "\n",
      "=== Running model with prior 1/6 ===\n",
      "\n"
     ]
    },
    {
     "name": "stderr",
     "output_type": "stream",
     "text": [
      "100%|██████████| 5000/5000 [00:12<00:00, 392.71it/s]\n"
     ]
    },
    {
     "name": "stdout",
     "output_type": "stream",
     "text": [
      "MCMC sampling finished. (17.905 sec)\n",
      "Acceptance rate: 59.1%\n",
      "Compositional Analysis summary:\n",
      "\n",
      "Data: 6 samples, 8 cell types\n",
      "Reference index: 0\n",
      "Formula: Condition\n",
      "\n",
      "Intercepts:\n",
      "                       Final Parameter  Expected Sample\n",
      "Cell Type                                              \n",
      "Endocrine                        1.244        36.649712\n",
      "Enterocyte                       2.395       115.862665\n",
      "Enterocyte.Progenitor            2.591       140.950049\n",
      "Goblet                           1.766        61.769244\n",
      "Stem                             2.780       170.273431\n",
      "TA                               2.191        94.481643\n",
      "TA.Early                         2.929       197.631772\n",
      "Tuft                             0.498        17.381485\n",
      "\n",
      "\n",
      "Effects:\n",
      "                                 Final Parameter  Expected Sample  \\\n",
      "Covariate Cell Type                                                 \n",
      "Condition Endocrine                      0.00000        26.111790   \n",
      "          Enterocyte                     1.36314       322.636805   \n",
      "          Enterocyte.Progenitor          0.00000       100.422567   \n",
      "          Goblet                         0.00000        44.008683   \n",
      "          Stem                           0.00000       121.314574   \n",
      "          TA                             0.00000        67.315260   \n",
      "          TA.Early                       0.00000       140.806549   \n",
      "          Tuft                           0.00000        12.383773   \n",
      "\n",
      "                                 log2-fold change  \n",
      "Covariate Cell Type                                \n",
      "Condition Endocrine                     -0.489100  \n",
      "          Enterocyte                     1.477495  \n",
      "          Enterocyte.Progenitor         -0.489100  \n",
      "          Goblet                        -0.489100  \n",
      "          Stem                          -0.489100  \n",
      "          TA                            -0.489100  \n",
      "          TA.Early                      -0.489100  \n",
      "          Tuft                          -0.489100  \n",
      "None\n",
      "\n",
      "=== Running model with prior 2/6 ===\n",
      "\n"
     ]
    },
    {
     "name": "stderr",
     "output_type": "stream",
     "text": [
      "100%|██████████| 5000/5000 [00:13<00:00, 365.03it/s]\n"
     ]
    },
    {
     "name": "stdout",
     "output_type": "stream",
     "text": [
      "MCMC sampling finished. (19.003 sec)\n",
      "Acceptance rate: 36.0%\n",
      "Compositional Analysis summary:\n",
      "\n",
      "Data: 6 samples, 8 cell types\n",
      "Reference index: 0\n",
      "Formula: Condition\n",
      "\n",
      "Intercepts:\n",
      "                       Final Parameter  Expected Sample\n",
      "Cell Type                                              \n",
      "Endocrine                        1.061        36.546498\n",
      "Enterocyte                       2.169       110.673603\n",
      "Enterocyte.Progenitor            2.463       148.500059\n",
      "Goblet                           1.535        58.708549\n",
      "Stem                             2.556       162.973133\n",
      "TA                               2.014        94.782554\n",
      "TA.Early                         2.796       207.179457\n",
      "Tuft                             0.212        15.636147\n",
      "\n",
      "\n",
      "Effects:\n",
      "                                 Final Parameter  Expected Sample  \\\n",
      "Covariate Cell Type                                                 \n",
      "Condition Endocrine                      0.00000        25.095557   \n",
      "          Enterocyte                     1.49124       337.623362   \n",
      "          Enterocyte.Progenitor          0.00000       101.971239   \n",
      "          Goblet                         0.00000        40.313678   \n",
      "          Stem                           0.00000       111.909533   \n",
      "          TA                             0.00000        65.084785   \n",
      "          TA.Early                       0.00000       142.264899   \n",
      "          Tuft                           0.00000        10.736947   \n",
      "\n",
      "                                 log2-fold change  \n",
      "Covariate Cell Type                                \n",
      "Condition Endocrine                     -0.542301  \n",
      "          Enterocyte                     1.609104  \n",
      "          Enterocyte.Progenitor         -0.542301  \n",
      "          Goblet                        -0.542301  \n",
      "          Stem                          -0.542301  \n",
      "          TA                            -0.542301  \n",
      "          TA.Early                      -0.542301  \n",
      "          Tuft                          -0.542301  \n",
      "None\n",
      "\n",
      "=== Running model with prior 3/6 ===\n",
      "\n"
     ]
    },
    {
     "name": "stderr",
     "output_type": "stream",
     "text": [
      "100%|██████████| 5000/5000 [00:13<00:00, 369.74it/s]\n"
     ]
    },
    {
     "name": "stdout",
     "output_type": "stream",
     "text": [
      "MCMC sampling finished. (18.739 sec)\n",
      "Acceptance rate: 52.1%\n",
      "Compositional Analysis summary:\n",
      "\n",
      "Data: 6 samples, 8 cell types\n",
      "Reference index: 0\n",
      "Formula: Condition\n",
      "\n",
      "Intercepts:\n",
      "                       Final Parameter  Expected Sample\n",
      "Cell Type                                              \n",
      "Endocrine                        1.147        36.307414\n",
      "Enterocyte                       2.323       117.686223\n",
      "Enterocyte.Progenitor            2.503       140.895990\n",
      "Goblet                           1.672        61.376189\n",
      "Stem                             2.685       169.020830\n",
      "TA                               2.095        93.692858\n",
      "TA.Early                         2.845       198.347781\n",
      "Tuft                             0.427        17.672716\n",
      "\n",
      "\n",
      "Effects:\n",
      "                                 Final Parameter  Expected Sample  \\\n",
      "Covariate Cell Type                                                 \n",
      "Condition Endocrine                     0.000000        25.978143   \n",
      "          Enterocyte                    1.340545       321.758277   \n",
      "          Enterocyte.Progenitor         0.000000       100.811811   \n",
      "          Goblet                        0.000000        43.914981   \n",
      "          Stem                          0.000000       120.935279   \n",
      "          TA                            0.000000        67.037725   \n",
      "          TA.Early                      0.000000       141.918865   \n",
      "          Tuft                          0.000000        12.644920   \n",
      "\n",
      "                                 log2-fold change  \n",
      "Covariate Cell Type                                \n",
      "Condition Endocrine                     -0.482966  \n",
      "          Enterocyte                     1.451032  \n",
      "          Enterocyte.Progenitor         -0.482966  \n",
      "          Goblet                        -0.482966  \n",
      "          Stem                          -0.482966  \n",
      "          TA                            -0.482966  \n",
      "          TA.Early                      -0.482966  \n",
      "          Tuft                          -0.482966  \n",
      "None\n",
      "\n",
      "=== Running model with prior 4/6 ===\n",
      "\n"
     ]
    },
    {
     "name": "stderr",
     "output_type": "stream",
     "text": [
      "100%|██████████| 5000/5000 [00:12<00:00, 391.02it/s]\n"
     ]
    },
    {
     "name": "stdout",
     "output_type": "stream",
     "text": [
      "WARNING:tensorflow:5 out of the last 5 calls to <function CompositionalModel.sampling.<locals>.sample_mcmc at 0x29df959e0> triggered tf.function retracing. Tracing is expensive and the excessive number of tracings could be due to (1) creating @tf.function repeatedly in a loop, (2) passing tensors with different shapes, (3) passing Python objects instead of tensors. For (1), please define your @tf.function outside of the loop. For (2), @tf.function has reduce_retracing=True option that can avoid unnecessary retracing. For (3), please refer to https://www.tensorflow.org/guide/function#controlling_retracing and https://www.tensorflow.org/api_docs/python/tf/function for  more details.\n",
      "MCMC sampling finished. (18.264 sec)\n",
      "Acceptance rate: 57.8%\n",
      "Compositional Analysis summary:\n",
      "\n",
      "Data: 6 samples, 8 cell types\n",
      "Reference index: 0\n",
      "Formula: Condition\n",
      "\n",
      "Intercepts:\n",
      "                       Final Parameter  Expected Sample\n",
      "Cell Type                                              \n",
      "Endocrine                        1.187        37.801299\n",
      "Enterocyte                       2.310       116.203559\n",
      "Enterocyte.Progenitor            2.508       141.647768\n",
      "Goblet                           1.642        59.581401\n",
      "Stem                             2.682       168.568715\n",
      "TA                               2.103        94.475777\n",
      "TA.Early                         2.848       199.007690\n",
      "Tuft                             0.429        17.713791\n",
      "\n",
      "\n",
      "Effects:\n",
      "                                 Final Parameter  Expected Sample  \\\n",
      "Covariate Cell Type                                                 \n",
      "Condition Endocrine                     0.000000        26.225445   \n",
      "          Enterocyte                    1.428333       336.319871   \n",
      "          Enterocyte.Progenitor         0.000000        98.271114   \n",
      "          Goblet                        0.000000        41.335849   \n",
      "          Stem                          0.000000       116.948087   \n",
      "          TA                            0.000000        65.544554   \n",
      "          TA.Early                      0.000000       138.065765   \n",
      "          Tuft                          0.000000        12.289314   \n",
      "\n",
      "                                 log2-fold change  \n",
      "Covariate Cell Type                                \n",
      "Condition Endocrine                     -0.527469  \n",
      "          Enterocyte                     1.533180  \n",
      "          Enterocyte.Progenitor         -0.527469  \n",
      "          Goblet                        -0.527469  \n",
      "          Stem                          -0.527469  \n",
      "          TA                            -0.527469  \n",
      "          TA.Early                      -0.527469  \n",
      "          Tuft                          -0.527469  \n",
      "None\n",
      "\n",
      "=== Running model with prior 5/6 ===\n",
      "\n"
     ]
    },
    {
     "name": "stderr",
     "output_type": "stream",
     "text": [
      "100%|██████████| 5000/5000 [00:15<00:00, 317.96it/s]\n"
     ]
    },
    {
     "name": "stdout",
     "output_type": "stream",
     "text": [
      "WARNING:tensorflow:6 out of the last 6 calls to <function CompositionalModel.sampling.<locals>.sample_mcmc at 0x2ea7662a0> triggered tf.function retracing. Tracing is expensive and the excessive number of tracings could be due to (1) creating @tf.function repeatedly in a loop, (2) passing tensors with different shapes, (3) passing Python objects instead of tensors. For (1), please define your @tf.function outside of the loop. For (2), @tf.function has reduce_retracing=True option that can avoid unnecessary retracing. For (3), please refer to https://www.tensorflow.org/guide/function#controlling_retracing and https://www.tensorflow.org/api_docs/python/tf/function for  more details.\n",
      "MCMC sampling finished. (20.936 sec)\n",
      "Acceptance rate: 58.7%\n",
      "Compositional Analysis summary:\n",
      "\n",
      "Data: 6 samples, 8 cell types\n",
      "Reference index: 0\n",
      "Formula: Condition\n",
      "\n",
      "Intercepts:\n",
      "                       Final Parameter  Expected Sample\n",
      "Cell Type                                              \n",
      "Endocrine                        1.172        36.584630\n",
      "Enterocyte                       2.344       118.111397\n",
      "Enterocyte.Progenitor            2.518       140.559125\n",
      "Goblet                           1.690        61.413410\n",
      "Stem                             2.704       169.292539\n",
      "TA                               2.119        94.313866\n",
      "TA.Early                         2.858       197.478204\n",
      "Tuft                             0.420        17.246828\n",
      "\n",
      "\n",
      "Effects:\n",
      "                                 Final Parameter  Expected Sample  \\\n",
      "Covariate Cell Type                                                 \n",
      "Condition Endocrine                     0.000000        26.256293   \n",
      "          Enterocyte                    1.329973       320.498774   \n",
      "          Enterocyte.Progenitor         0.000000       100.877378   \n",
      "          Goblet                        0.000000        44.075572   \n",
      "          Stem                          0.000000       121.498959   \n",
      "          TA                            0.000000        67.687782   \n",
      "          TA.Early                      0.000000       141.727429   \n",
      "          Tuft                          0.000000        12.377814   \n",
      "\n",
      "                                 log2-fold change  \n",
      "Covariate Cell Type                                \n",
      "Condition Endocrine                     -0.478574  \n",
      "          Enterocyte                     1.440171  \n",
      "          Enterocyte.Progenitor         -0.478574  \n",
      "          Goblet                        -0.478574  \n",
      "          Stem                          -0.478574  \n",
      "          TA                            -0.478574  \n",
      "          TA.Early                      -0.478574  \n",
      "          Tuft                          -0.478574  \n",
      "None\n",
      "\n",
      "=== Running model with prior 6/6 ===\n",
      "\n"
     ]
    },
    {
     "name": "stderr",
     "output_type": "stream",
     "text": [
      "100%|██████████| 5000/5000 [00:13<00:00, 376.11it/s]\n"
     ]
    },
    {
     "name": "stdout",
     "output_type": "stream",
     "text": [
      "MCMC sampling finished. (18.415 sec)\n",
      "Acceptance rate: 53.2%\n",
      "Compositional Analysis summary:\n",
      "\n",
      "Data: 6 samples, 8 cell types\n",
      "Reference index: 0\n",
      "Formula: Condition\n",
      "\n",
      "Intercepts:\n",
      "                       Final Parameter  Expected Sample\n",
      "Cell Type                                              \n",
      "Endocrine                        1.184        36.683224\n",
      "Enterocyte                       2.342       116.783235\n",
      "Enterocyte.Progenitor            2.526       140.375297\n",
      "Goblet                           1.707        61.887581\n",
      "Stem                             2.713       169.240288\n",
      "TA                               2.128        94.284756\n",
      "TA.Early                         2.871       198.208504\n",
      "Tuft                             0.446        17.537116\n",
      "\n",
      "\n",
      "Effects:\n",
      "                                 Final Parameter  Expected Sample  \\\n",
      "Covariate Cell Type                                                 \n",
      "Condition Endocrine                     0.000000        25.990329   \n",
      "          Enterocyte                    1.371597       326.138227   \n",
      "          Enterocyte.Progenitor         0.000000        99.456913   \n",
      "          Goblet                        0.000000        43.847799   \n",
      "          Stem                          0.000000       119.907968   \n",
      "          TA                            0.000000        66.801432   \n",
      "          TA.Early                      0.000000       140.432159   \n",
      "          Tuft                          0.000000        12.425173   \n",
      "\n",
      "                                 log2-fold change  \n",
      "Covariate Cell Type                                \n",
      "Condition Endocrine                     -0.497146  \n",
      "          Enterocyte                     1.481650  \n",
      "          Enterocyte.Progenitor         -0.497146  \n",
      "          Goblet                        -0.497146  \n",
      "          Stem                          -0.497146  \n",
      "          TA                            -0.497146  \n",
      "          TA.Early                      -0.497146  \n",
      "          Tuft                          -0.497146  \n",
      "None\n"
     ]
    }
   ],
   "source": [
    "default_priors = {\n",
    "    \"alpha_loc\": 0.0,\n",
    "    \"alpha_sd\": 5.0,\n",
    "    \"sigma_hc_scale\": 1.0,\n",
    "    \"gamma_loc\": 0.0,\n",
    "    \"gamma_sd\": 1.0,\n",
    "    \"tau_temperature\": 50.0\n",
    "}\n",
    "\n",
    "# Each dict changes only one prior from the default\n",
    "priors_list = [\n",
    "    {**default_priors, \"alpha_loc\": 1.0},           \n",
    "    {**default_priors, \"alpha_sd\": 2.0},            \n",
    "    {**default_priors, \"sigma_hc_scale\": 0.5},      \n",
    "    {**default_priors, \"gamma_loc\": 0.5},           \n",
    "    {**default_priors, \"gamma_sd\": 0.5},            \n",
    "    {**default_priors, \"tau_temperature\": 25.0}     \n",
    "]\n",
    "\n",
    "results = []\n",
    "\n",
    "for i, priors in enumerate(priors_list, 1):\n",
    "    print(f\"\\n=== Running model with prior {i}/{len(priors_list)} ===\\n\")\n",
    "    \n",
    "    model = EricaModel(\n",
    "        reference_cell_type=0,\n",
    "        data_matrix=data_salm.X.astype(\"float64\"),\n",
    "        covariate_matrix=covariate_matrix,\n",
    "        cell_types=list(data_salm.var.index),\n",
    "        covariate_names=covariate_names,\n",
    "        formula=\"Condition\",\n",
    "        **priors  \n",
    "    )\n",
    "    \n",
    "    # Run HMC sampling\n",
    "    sample_result = model.sample_hmc(num_results=5000, num_burnin=1000)\n",
    "    results.append(sample_result)\n",
    "    \n",
    "    # Print summary of the last run\n",
    "    print(sample_result.summary())\n"
   ]
  },
  {
   "cell_type": "code",
   "execution_count": 18,
   "id": "fce4f3d2",
   "metadata": {},
   "outputs": [
    {
     "name": "stderr",
     "output_type": "stream",
     "text": [
      "100%|██████████| 5000/5000 [00:13<00:00, 373.69it/s]\n"
     ]
    },
    {
     "name": "stdout",
     "output_type": "stream",
     "text": [
      "MCMC sampling finished. (20.203 sec)\n",
      "Acceptance rate: 54.5%\n",
      "Compositional Analysis summary:\n",
      "\n",
      "Data: 6 samples, 8 cell types\n",
      "Reference index: 0\n",
      "Formula: Condition\n",
      "\n",
      "Intercepts:\n",
      "                       Final Parameter  Expected Sample\n",
      "Cell Type                                              \n",
      "Endocrine                        1.167        36.779588\n",
      "Enterocyte                       2.323       116.856072\n",
      "Enterocyte.Progenitor            2.498       139.204354\n",
      "Goblet                           1.688        61.926180\n",
      "Stem                             2.702       170.706042\n",
      "TA                               2.114        94.816460\n",
      "TA.Early                         2.846       197.145695\n",
      "Tuft                             0.428        17.565610\n",
      "\n",
      "\n",
      "Effects:\n",
      "                                 Final Parameter  Expected Sample  \\\n",
      "Covariate Cell Type                                                 \n",
      "Condition Endocrine                     0.000000        26.233497   \n",
      "          Enterocyte                    1.353918       322.774937   \n",
      "          Enterocyte.Progenitor         0.000000        99.289232   \n",
      "          Goblet                        0.000000        44.169616   \n",
      "          Stem                          0.000000       121.758201   \n",
      "          TA                            0.000000        67.629016   \n",
      "          TA.Early                      0.000000       140.616612   \n",
      "          Tuft                          0.000000        12.528889   \n",
      "\n",
      "                                 log2-fold change  \n",
      "Covariate Cell Type                                \n",
      "Condition Endocrine                     -0.487495  \n",
      "          Enterocyte                     1.465796  \n",
      "          Enterocyte.Progenitor         -0.487495  \n",
      "          Goblet                        -0.487495  \n",
      "          Stem                          -0.487495  \n",
      "          TA                            -0.487495  \n",
      "          TA.Early                      -0.487495  \n",
      "          Tuft                          -0.487495  \n",
      "None\n"
     ]
    }
   ],
   "source": [
    "priors = default_priors.copy()\n",
    "priors[\"tau_temperature\"] = 5.0\n",
    "\n",
    "model = EricaModel(\n",
    "        reference_cell_type=0,\n",
    "        data_matrix=data_salm.X.astype(\"float64\"),\n",
    "        covariate_matrix=covariate_matrix,\n",
    "        cell_types=list(data_salm.var.index),\n",
    "        covariate_names=covariate_names,\n",
    "        formula=\"Condition\",\n",
    "        **priors\n",
    "    )\n",
    "\n",
    "# Run HMC sampling\n",
    "sample_result = model.sample_hmc(num_results=5000, num_burnin=1000)\n",
    "results.append(sample_result)\n",
    "    \n",
    "\n",
    "print(sample_result.summary())\n"
   ]
  }
 ],
 "metadata": {
  "kernelspec": {
   "display_name": "Python (sccoda-env)",
   "language": "python",
   "name": "sccoda-env"
  },
  "language_info": {
   "codemirror_mode": {
    "name": "ipython",
    "version": 3
   },
   "file_extension": ".py",
   "mimetype": "text/x-python",
   "name": "python",
   "nbconvert_exporter": "python",
   "pygments_lexer": "ipython3",
   "version": "3.12.4"
  }
 },
 "nbformat": 4,
 "nbformat_minor": 5
}
